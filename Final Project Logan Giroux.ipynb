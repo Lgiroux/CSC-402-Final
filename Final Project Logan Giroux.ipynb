{
 "cells": [
  {
   "cell_type": "code",
   "execution_count": 1,
   "metadata": {},
   "outputs": [],
   "source": [
    "from cuppa3_interp import interp"
   ]
  },
  {
   "cell_type": "markdown",
   "metadata": {},
   "source": [
    "## Introduction"
   ]
  },
  {
   "cell_type": "markdown",
   "metadata": {},
   "source": [
    "This is a basic programming language capable of working with functions, arithmetic operations, strings, and arrays. It is built upon the Cuppa3 language and could be useful for someone working with complex lists of lsits (of lists, etc.) of numbers. It could also prove useful in schools to help younger children learn the basics of coding. I belive that given nature of the syntax, this language would make function calls a little easier to understand. This can be observed with the array calls such as prepend and insert, which are very similar to function calls with parameters. "
   ]
  },
  {
   "cell_type": "markdown",
   "metadata": {},
   "source": [
    "## Implementation"
   ]
  },
  {
   "cell_type": "markdown",
   "metadata": {},
   "source": [
    "The overall architecture is the same architecture used for the Cuppa programming langauges. The grammar/lexer combination ensures proper syntax usage and the interpreter works with the symbol table to produce effective code entered by the user. \n",
    "\n",
    "The key data structures used under the hood are: a tree of tuples containing information about the data entered by the user, a dictionary used for indentifying nodes and walking said tree of tuples, and a symbol table used to store values associated with given variables.\n",
    "\n",
    "The array structure I have implemented actually uses strings under the hood. This was done so that the array structure could be more easily integrated with the rest of the features provided by the cuppa3 language."
   ]
  },
  {
   "cell_type": "markdown",
   "metadata": {},
   "source": [
    "## Challenges"
   ]
  },
  {
   "cell_type": "markdown",
   "metadata": {},
   "source": [
    "I faced a few challenges while working on this project. If I were to do it again, I would forgo many of the basic features of the language and focus more on using an array architecture for the array structure. The arrays are fucntional on the surface, but if one were to use this language for any sort of work, I think they would find it to be quite useless. It serves a purpose in the sense of it being a showcase of what I have learned this semester, but as far as being a useful bit of code, I think it falls short. If I had more time, I would have liked to go back and adjust all of the code having to deal with arrays so that actual arrays or vectors were used behind the scenes. I believe this would have added much more functionality to the language.\n",
    "\n",
    "That being said, I do believe the project to be a success. I successfully implemented strings, without being able to find any inputs that break the structure and result in an error. The array structure can be used in an (albeit limited) multidimensional fashion and could provide useful to the right line of work. Numbers and/or arrays can be appended, prepended, or inserted into all slots of existing arrays, allowing for complex list generation.\n",
    "\n",
    "Unfortunately, I ran into a problem when implementing my 'pull' function, which would have allowed for a user to pull data from a given index of an array. I have left this code in the 'cuppa3_interp_walk' file starting at line 224. For some reason it gives a syntax error when I attempt to use the pull call, as shown in a test below. This was one major setback and resulted in many frustrating hours staring a screen, as I truly cannot figure out why a syntax error would result. The pull command is nearly identical to the insert command, which is why the error is so puzzling to me. Alas, thankfully I was able to keep that problem contained to one command without it spreading to the rest of the code."
   ]
  },
  {
   "cell_type": "markdown",
   "metadata": {},
   "source": [
    "## Examples"
   ]
  },
  {
   "cell_type": "code",
   "execution_count": 2,
   "metadata": {},
   "outputs": [],
   "source": [
    "string_usage = \\\n",
    "'''\n",
    "declare one = \"Hello World!\";\n",
    "put one;\n",
    "\n",
    "declare two = \"\";\n",
    "put two;\n",
    "\n",
    "declare three = \"@@t!?d  dd$#^h!i!!!\";\n",
    "put three;\n",
    "\n",
    "declare arr = [1,2,4,5,6,7]\n",
    "declare arr2 = [1,[2,3],4,5,6,7]\n",
    "declare arr3 = [1,2,3,2,1]\n",
    "append arr2 arr;\n",
    "prepend arr2 34;\n",
    "insert arr2 3 arr;\n",
    "put arr;\n",
    "put arr2;\n",
    "'''"
   ]
  },
  {
   "cell_type": "code",
   "execution_count": 3,
   "metadata": {},
   "outputs": [
    {
     "name": "stdout",
     "output_type": "stream",
     "text": [
      "> \"Hello World!\"\n",
      "> \"\"\n",
      "> \"@@t!?d  dd$#^h!i!!!\"\n",
      "> [1, 2, 4, 5, 6, 7]\n",
      "> [34, 1, [2, 3], [1, 2, 4, 5, 6, 7], 4, 5, 6, 7, [1, 2, 4, 5, 6, 7]]\n"
     ]
    }
   ],
   "source": [
    "interp(string_usage)"
   ]
  },
  {
   "cell_type": "code",
   "execution_count": 4,
   "metadata": {},
   "outputs": [],
   "source": [
    "array_initialization = \\\n",
    "'''\n",
    "declare arr1 = []\n",
    "declare arr2 = [1,2,3,4,5]\n",
    "declare arr3 = [1,2,[3,4,5,6],7,8,9,[10]]\n",
    "\n",
    "put arr1;\n",
    "put arr2;\n",
    "put arr3;\n",
    "'''"
   ]
  },
  {
   "cell_type": "code",
   "execution_count": 5,
   "metadata": {},
   "outputs": [
    {
     "name": "stdout",
     "output_type": "stream",
     "text": [
      "> [nil]\n",
      "> [1, 2, 3, 4, 5]\n",
      "> [1, 2, [3, 4, 5, 6], 7, 8, 9, [10]]\n"
     ]
    }
   ],
   "source": [
    "interp(array_initialization)"
   ]
  },
  {
   "cell_type": "code",
   "execution_count": 6,
   "metadata": {},
   "outputs": [],
   "source": [
    "array_manipulation = \\\n",
    "'''\n",
    "declare arr1 = [1,2,3]\n",
    "declare arr2 = [4,5,6]\n",
    "\n",
    "\n",
    "//appends arr2 to arr1\n",
    "\n",
    "append arr1 arr2;\n",
    "\n",
    "\n",
    "//prepends 34 to arr2\n",
    "\n",
    "prepend arr2 34;\n",
    "\n",
    "\n",
    "declare arr3 = [1,2,[3,4,5,6],7,8,9,[10]]\n",
    "\n",
    "\n",
    "//inserts '100' into the 4th index of arr3\n",
    "//arrays are zero indexed\n",
    "\n",
    "insert arr3 4 100;\n",
    "\n",
    "\n",
    "declare arr4 = [0,2,4,6,8]\n",
    "insert arr4 2 arr3;\n",
    "\n",
    "\n",
    "put arr1;\n",
    "put arr2;\n",
    "put arr3;\n",
    "put arr4;\n",
    "'''"
   ]
  },
  {
   "cell_type": "code",
   "execution_count": 7,
   "metadata": {},
   "outputs": [
    {
     "name": "stdout",
     "output_type": "stream",
     "text": [
      "> [1, 2, 3, [4, 5, 6]]\n",
      "> [34, 4, 5, 6]\n",
      "> [1, 2, [3, 4, 5, 6], 7, 100, 8, 9, [10]]\n",
      "> [0, 2, [1, 2, [3, 4, 5, 6], 7, 100, 8, 9, [10]], 4, 6, 8]\n"
     ]
    }
   ],
   "source": [
    "interp(array_manipulation)"
   ]
  },
  {
   "cell_type": "code",
   "execution_count": 12,
   "metadata": {},
   "outputs": [],
   "source": [
    "pull_error = \\\n",
    "'''\n",
    "declare arr = [1,2,3,4,5]\n",
    "\n",
    "//should pull the value at the second index in arr and store into x\n",
    "\n",
    "//removing the comments below to delcare x results in a printing of '0'\n",
    "//declare x;\n",
    "\n",
    "pull arr 2 x;\n",
    "put x;\n",
    "'''"
   ]
  },
  {
   "cell_type": "code",
   "execution_count": 13,
   "metadata": {
    "scrolled": true
   },
   "outputs": [
    {
     "name": "stdout",
     "output_type": "stream",
     "text": [
      "> 0\n"
     ]
    }
   ],
   "source": [
    "interp(pull_error)"
   ]
  },
  {
   "cell_type": "markdown",
   "metadata": {},
   "source": [
    "## Conclusions"
   ]
  },
  {
   "cell_type": "markdown",
   "metadata": {},
   "source": [
    "I'm pretty happy with my project, although it did not turn out initially as I had planned. I did not showcase other aspects of the language because you are obviously aware of how the functions work and how basic arithmetic operations work. I'm a little upset about the 'pull' command not working, but I did the best I could. I tried many different things to fix it, such as declaring x as an array and updating the symbol table respectively, or by simply declaring x within the 'pull_exp' function instead of updating the symbol table. \n",
    "\n",
    "I definitely learned a lot in this class, so thanks for eveything. Enjoy the break!\n",
    "\n",
    "\n",
    "\n",
    "Peace,\n",
    "\n",
    "Logan"
   ]
  },
  {
   "cell_type": "code",
   "execution_count": null,
   "metadata": {},
   "outputs": [],
   "source": []
  }
 ],
 "metadata": {
  "kernelspec": {
   "display_name": "Python 3",
   "language": "python",
   "name": "python3"
  },
  "language_info": {
   "codemirror_mode": {
    "name": "ipython",
    "version": 3
   },
   "file_extension": ".py",
   "mimetype": "text/x-python",
   "name": "python",
   "nbconvert_exporter": "python",
   "pygments_lexer": "ipython3",
   "version": "3.7.1"
  }
 },
 "nbformat": 4,
 "nbformat_minor": 2
}
